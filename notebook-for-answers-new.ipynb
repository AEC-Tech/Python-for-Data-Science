{
 "cells": [
  {
   "cell_type": "code",
   "execution_count": 19,
   "metadata": {},
   "outputs": [
    {
     "data": {
      "text/html": [
       "<div>\n",
       "<style scoped>\n",
       "    .dataframe tbody tr th:only-of-type {\n",
       "        vertical-align: middle;\n",
       "    }\n",
       "\n",
       "    .dataframe tbody tr th {\n",
       "        vertical-align: top;\n",
       "    }\n",
       "\n",
       "    .dataframe thead th {\n",
       "        text-align: right;\n",
       "    }\n",
       "</style>\n",
       "<table border=\"1\" class=\"dataframe\">\n",
       "  <thead>\n",
       "    <tr style=\"text-align: right;\">\n",
       "      <th></th>\n",
       "      <th>pickup_datetime</th>\n",
       "      <th>dropoff_datetime</th>\n",
       "      <th>trip_distance</th>\n",
       "      <th>passenger_count</th>\n",
       "      <th>payment_amount</th>\n",
       "      <th>duration</th>\n",
       "    </tr>\n",
       "  </thead>\n",
       "  <tbody>\n",
       "    <tr>\n",
       "      <th>0</th>\n",
       "      <td>1/01/16 0:00</td>\n",
       "      <td>1/01/16 0:13</td>\n",
       "      <td>1.50</td>\n",
       "      <td>1</td>\n",
       "      <td>14.65</td>\n",
       "      <td>13</td>\n",
       "    </tr>\n",
       "    <tr>\n",
       "      <th>1</th>\n",
       "      <td>1/01/16 0:01</td>\n",
       "      <td>1/01/16 0:07</td>\n",
       "      <td>1.40</td>\n",
       "      <td>2</td>\n",
       "      <td>10.75</td>\n",
       "      <td>6</td>\n",
       "    </tr>\n",
       "    <tr>\n",
       "      <th>2</th>\n",
       "      <td>1/01/16 0:02</td>\n",
       "      <td>1/01/16 0:08</td>\n",
       "      <td>1.02</td>\n",
       "      <td>1</td>\n",
       "      <td>8.76</td>\n",
       "      <td>6</td>\n",
       "    </tr>\n",
       "    <tr>\n",
       "      <th>3</th>\n",
       "      <td>1/01/16 0:03</td>\n",
       "      <td>1/01/16 0:15</td>\n",
       "      <td>4.00</td>\n",
       "      <td>1</td>\n",
       "      <td>18.95</td>\n",
       "      <td>12</td>\n",
       "    </tr>\n",
       "    <tr>\n",
       "      <th>4</th>\n",
       "      <td>1/01/16 0:04</td>\n",
       "      <td>1/01/16 0:22</td>\n",
       "      <td>3.53</td>\n",
       "      <td>1</td>\n",
       "      <td>16.80</td>\n",
       "      <td>18</td>\n",
       "    </tr>\n",
       "  </tbody>\n",
       "</table>\n",
       "</div>"
      ],
      "text/plain": [
       "  pickup_datetime dropoff_datetime  trip_distance  passenger_count  \\\n",
       "0    1/01/16 0:00     1/01/16 0:13           1.50                1   \n",
       "1    1/01/16 0:01     1/01/16 0:07           1.40                2   \n",
       "2    1/01/16 0:02     1/01/16 0:08           1.02                1   \n",
       "3    1/01/16 0:03     1/01/16 0:15           4.00                1   \n",
       "4    1/01/16 0:04     1/01/16 0:22           3.53                1   \n",
       "\n",
       "   payment_amount  duration  \n",
       "0           14.65        13  \n",
       "1           10.75         6  \n",
       "2            8.76         6  \n",
       "3           18.95        12  \n",
       "4           16.80        18  "
      ]
     },
     "execution_count": 19,
     "metadata": {},
     "output_type": "execute_result"
    }
   ],
   "source": [
    "import pandas as pd\n",
    "df=pd.read_csv('clean-january.csv',nrows=100)\n",
    "df.head()\n",
    "#Any general code that you want to reuse in the following answers, we have picked 100 records"
   ]
  },
  {
   "cell_type": "code",
   "execution_count": 4,
   "metadata": {},
   "outputs": [
    {
     "name": "stdout",
     "output_type": "stream",
     "text": [
      "% of short trips is : 64.0\n"
     ]
    }
   ],
   "source": [
    "def createcolumn(row):\n",
    "    if row['trip_distance'] < 3:\n",
    "        return 1\n",
    "    else:\n",
    "        return 0\n",
    "df['short_trip']=df.apply(createcolumn,axis=1)\n",
    "df.head()\n",
    "per=df.loc[df['short_trip']==1]['short_trip'].count()/df['short_trip'].count()*100\n",
    "print(\"% of short trips is :\",round(per,1))\n",
    "#Answer to 1"
   ]
  },
  {
   "cell_type": "code",
   "execution_count": 5,
   "metadata": {},
   "outputs": [
    {
     "name": "stdout",
     "output_type": "stream",
     "text": [
      "STAT\n",
      "January: 2.1\n",
      "January: 11.5\n"
     ]
    }
   ],
   "source": [
    "print(\"STAT\")\n",
    "tripd_median= df['trip_distance'].median()\n",
    "print(\"January:\",round(tripd_median,1))\n",
    "duration_median1=df['duration'].median()\n",
    "print(\"January:\",round(duration_median1,1))#Answer to 2"
   ]
  },
  {
   "cell_type": "code",
   "execution_count": 6,
   "metadata": {},
   "outputs": [
    {
     "name": "stdout",
     "output_type": "stream",
     "text": [
      "32.0% of instances in ‘tripdistance’ are abnormal! (normal range is between 1.2 and 4.5)\n"
     ]
    }
   ],
   "source": [
    "per = (df.loc[df['trip_distance'] < 1.2].count()+df.loc[df['trip_distance'] > 4.5].count())/df['trip_distance'].count()*100\n",
    "print(str(round(per['trip_distance'],1)) + \"% of instances in ‘tripdistance’ are abnormal! (normal range is between 1.2 and 4.5)\")#Answer to 3"
   ]
  },
  {
   "cell_type": "code",
   "execution_count": 7,
   "metadata": {},
   "outputs": [
    {
     "data": {
      "text/plain": [
       "<matplotlib.figure.Figure at 0x1ffafce4b38>"
      ]
     },
     "metadata": {},
     "output_type": "display_data"
    }
   ],
   "source": [
    "import matplotlib.pyplot as plt\n",
    "\n",
    "df['dropoff_datetime'] = pd.to_datetime(df['dropoff_datetime'],format = '%d/%m/%y %H:%M')\n",
    "df['pickup_datetime'] = pd.to_datetime(df['pickup_datetime'],format = '%d/%m/%y %H:%M')\n",
    "morning = df.loc[(df['pickup_datetime'].dt.hour>=7) & (df['pickup_datetime'].dt.hour<=11)]\n",
    "afternoon = df.loc[(df['pickup_datetime'].dt.hour>=12) & (df['pickup_datetime'].dt.hour<=15)]\n",
    "\n",
    "\n",
    "fig = plt.figure()\n",
    "ax = fig.add_subplot(221)\n",
    "plt.boxplot(morning['payment_amount'])\n",
    "plt.title(\"Morning Trip Fares\")\n",
    "ax = fig.add_subplot(222)\n",
    "plt.boxplot(afternoon['payment_amount'])\n",
    "plt.title(\"Afternoon Trip Fares\")\n",
    "\n",
    "plt.show()\n",
    "\n",
    "#def create_df1(row):\n",
    "#   pickhour=pickup.hour\n",
    "#    if pickhour>=7 and pickhour<=11:\n",
    "#        return 1\n",
    "#    else:\n",
    "#        return 0\n",
    "#df['morning_pickup']=df.apply(create_df1,axis=1)\n",
    "#df1=df.loc[df['morning_pickup']==1]\n",
    "#plt.boxplot(df1['payment_amount'])\n",
    "#plt.title(\"Morning Trip Fares\")\n",
    "#plt.figure()\n",
    "\n",
    "\n",
    "##def create_df2(row):\n",
    "  #  pickup=pd.to_datetime(row['pickup_datetime'])\n",
    "   # pickhour=pickup.hour\n",
    "    #if pickhour>=12 and pickhour<=15:\n",
    "     #   return 1\n",
    "    #else:\n",
    "     #   return 0\n",
    "#df['afternoon_pickup']=df.apply(create_df2,axis=1)\n",
    "#df2=df.loc[df['afternoon_pickup']==1]\n",
    "#plt.boxplot(df2['payment_amount'])\n",
    "#plt.title(\"Afternoon Trip Fares\")\n",
    "#plt.figure()\n",
    "#plt.show()\n",
    "\n",
    "\n",
    "\n",
    "\n",
    "#Answer to 4"
   ]
  },
  {
   "cell_type": "code",
   "execution_count": 6,
   "metadata": {},
   "outputs": [
    {
     "name": "stdout",
     "output_type": "stream",
     "text": [
      "% of peak hour trips=7.0\n"
     ]
    }
   ],
   "source": [
    "\n",
    "#df=pd.read_csv('clean-january.csv',nrows=1200)\n",
    "def create_isPeak(row):\n",
    "    pickup=pd.to_datetime(row['pickup_datetime'])\n",
    "    dropoff=pd.to_datetime(row['dropoff_datetime'])\n",
    "    if pickup.hour>=7 and pickup.hour<=8 and dropoff.hour>=7 and dropoff.hour<=8:\n",
    "        return 1\n",
    "    else:\n",
    "        return 0\n",
    "df['isPeak']=df.apply(create_isPeak,axis=1)\n",
    "per=df.loc[df['isPeak']==1].count()/df['isPeak'].count()*100\n",
    "print(\"% of peak hour trips=\"+str(round(per['isPeak'],1)))\n",
    "#Answer to 5"
   ]
  },
  {
   "cell_type": "code",
   "execution_count": 8,
   "metadata": {},
   "outputs": [
    {
     "data": {
      "image/png": "[encoded data removed]",
      "text/plain": [
       "<matplotlib.figure.Figure at 0x1ffb0388470>"
      ]
     },
     "metadata": {},
     "output_type": "display_data"
    }
   ],
   "source": [
    "from datetime import datetime\n",
    "\n",
    "#def create_col(row):\n",
    "#    trip_date=pd.to_datetime(row['pickup_datetime'])\n",
    "#    trip_date=trip_date.strftime('%d/%m/%y %H:%M')\n",
    "#    trip_date=pd.to_datetime(trip_date)\n",
    "#    tripday=trip_date.day\n",
    "#    return tripday\n",
    "df['dayofmonth'] = df['pickup_datetime'].dt.day\n",
    "#df['dayofmonth']=df.apply(create_col,axis=1)\n",
    "result=df.groupby(df['dayofmonth'])\n",
    "result['pickup_datetime'].count().plot(kind='bar')\n",
    "plt.title(\"No. of trips for each day of month\")\n",
    "plt.xlabel(\"Day of Month\")\n",
    "plt.ylabel(\"Number of trips\")\n",
    "plt.show()\n",
    "#Answer to 6"
   ]
  },
  {
   "cell_type": "code",
   "execution_count": 9,
   "metadata": {},
   "outputs": [
    {
     "data": {
      "image/png": "[encoded data removed]",
      "text/plain": [
       "<matplotlib.figure.Figure at 0x1ffb055dac8>"
      ]
     },
     "metadata": {},
     "output_type": "display_data"
    }
   ],
   "source": [
    "from datetime import datetime\n",
    "import matplotlib.pyplot as plt\n",
    "#df=pd.read_csv('clean-january.csv',nrows=5000)\n",
    "def create_col(row):\n",
    "    trip_date=pd.to_datetime(row['pickup_datetime'])\n",
    "    trip_date=trip_date.strftime('%d/%m/%y %H:%M')\n",
    "    trip_date=pd.to_datetime(trip_date)\n",
    "    tripday=trip_date.weekday()\n",
    "    if tripday==0:\n",
    "        return \"Monday\"\n",
    "    elif tripday==1:\n",
    "        return \"Tuesday\"\n",
    "    elif tripday==2:\n",
    "        return \"Wednesday\"\n",
    "    elif tripday==3:\n",
    "        return \"Thursday\"\n",
    "    elif tripday==4:\n",
    "        return \"Friday\"\n",
    "    elif tripday==5:\n",
    "        return \"Saturday\"\n",
    "    elif tripday==6:\n",
    "        return \"Sunday\"\n",
    "df['dayofweek']=df.apply(create_col,axis=1)\n",
    "res=df.groupby(df['dayofweek'])\n",
    "res.mean().plot.scatter('trip_distance','payment_amount',c=['b','r'])\n",
    "plt.show()\n",
    "\n",
    "#df['dayofweek'] = df['pickup_datetime'].dt.weekday_name\n",
    "#stats_per_day = df.groupby('dayofweek')['trip_distance','payment_amount'].mean()\n",
    "#stats_per_day.plot.scatter(y='trip_distance',x='payment_amount',c=['k','b','r','g','c','m','y'])\n",
    "#label = ['Friday','Monday','Saturday','Sunday','Thursday','Tuesday','Wednesday']\n",
    "#plt.legend()\n",
    "\n",
    "#Answer to 7"
   ]
  },
  {
   "cell_type": "code",
   "execution_count": 10,
   "metadata": {},
   "outputs": [
    {
     "data": {
      "image/png": "[encoded data removed]",
      "text/plain": [
       "<matplotlib.figure.Figure at 0x1ffb05c8f98>"
      ]
     },
     "metadata": {},
     "output_type": "display_data"
    }
   ],
   "source": [
    "##normalise data\n",
    "\n",
    "df['trip_distance'] = (df['trip_distance']-df['trip_distance'].min())/(df['trip_distance'].max()-df['trip_distance'].min())\n",
    "df['passenger_count'] = (df['passenger_count']-df['passenger_count'].min())/(df['passenger_count'].max()-df['passenger_count'].min())\n",
    "df['payment_amount'] = (df['payment_amount']-df['payment_amount'].min())/(df['payment_amount'].max()-df['payment_amount'].min())\n",
    "\n",
    "days = df.groupby('dayofweek')['trip_distance','passenger_count','payment_amount'].mean()\n",
    "\n",
    "days['weekday'] = days.index\n",
    "days.sort_values(by='payment_amount')\n",
    "\n",
    "pd.plotting.parallel_coordinates(days,'weekday',color=['r','r','b','b','r','r','r'])\n",
    "\n",
    "\n",
    "#colors = {'Weekend': 'b', 'Weekday': 'r'}\n",
    "Weekdays = ['Monday','Tuesday','Wednesday','Thursday','Friday']\n",
    "Weekends = ['Saturday','Sunday']\n",
    "\n",
    "plt.legend(labels = ['Weekday'])\n",
    "\n",
    "\n",
    "plt.show()\n",
    "\n",
    "#Answer to 8"
   ]
  },
  {
   "cell_type": "code",
   "execution_count": 11,
   "metadata": {},
   "outputs": [
    {
     "data": {
      "text/plain": [
       "<matplotlib.axes._subplots.AxesSubplot at 0x1ffb05c2780>"
      ]
     },
     "execution_count": 11,
     "metadata": {},
     "output_type": "execute_result"
    },
    {
     "data": {
      "image/png": "[encoded data removed]",
      "text/plain": [
       "<matplotlib.figure.Figure at 0x1ffafc3b198>"
      ]
     },
     "metadata": {},
     "output_type": "display_data"
    }
   ],
   "source": [
    "df['minutes_travelling'] = df['passenger_count'] * df['duration']\n",
    "mean_minutes = df.groupby('dayofweek')['minutes_travelling'].mean()\n",
    "mean_minutes.plot.pie(autopct='%.2f%%')\n",
    "#Answer to 9"
   ]
  },
  {
   "cell_type": "code",
   "execution_count": 14,
   "metadata": {},
   "outputs": [],
   "source": [
    "#Answer to 10\n",
    "from datetime import datetime\n",
    "def timeDiff(time1,time2):\n",
    "    timea=datetime.strptime(time1,\"%H:%M\")\n",
    "    timeb=datetime.strptime(time2,\"%H:%M\")\n",
    "    newtime=timeb-timea\n",
    "    return newtime.seconds/60\n",
    "def create_col(row):\n",
    "    trip_date=pd.to_datetime(row['pickup_datetime'])\n",
    "    trip_date=trip_date.strftime('%d/%m/%y %H:%M')\n",
    "    trip_date=pd.to_datetime(trip_date)\n",
    "    drop_date=pd.to_datetime(row['dropoff_datetime'])\n",
    "    drop_date=drop_date.strftime('%d/%m/%y %H:%M')\n",
    "    drop_date=pd.to_datetime(drop_date)\n",
    "    if trip_date.day!=drop_date.day:\n",
    "        return 0\n",
    "    hr=trip_date.hour\n",
    "    mn=trip_date.minute\n",
    "    giventime='0:06'\n",
    "    actualtime=str(hr)+\":\"+str(mn)\n",
    "    diffmin=timeDiff(giventime,actualtime)\n",
    "    if(diffmin<=60):\n",
    "        return 1\n",
    "    else:\n",
    "        return 0\n",
    "    \n",
    "df['is60mintrip']=df.apply(create_col,axis=1)"
   ]
  },
  {
   "cell_type": "code",
   "execution_count": 15,
   "metadata": {},
   "outputs": [
    {
     "data": {
      "image/png": "[encoded data removed]",
      "text/plain": [
       "<matplotlib.figure.Figure at 0x1ffb175ebe0>"
      ]
     },
     "metadata": {},
     "output_type": "display_data"
    },
    {
     "data": {
      "image/png": "[encoded data removed]",
      "text/plain": [
       "<matplotlib.figure.Figure at 0x1ffb18ec940>"
      ]
     },
     "metadata": {},
     "output_type": "display_data"
    }
   ],
   "source": [
    "res=df.groupby(df['dayofmonth']).count().plot()\n",
    "dfmonth=df['dayofmonth']\n",
    "res=df.groupby('dayofweek')['trip_distance','payment_amount'].mean()\n",
    "res.plot.scatter(y='trip_distance',x='payment_amount')\n",
    "\n",
    "plt.show()\n",
    "\n"
   ]
  },
  {
   "cell_type": "code",
   "execution_count": null,
   "metadata": {},
   "outputs": [],
   "source": []
  },
  {
   "cell_type": "code",
   "execution_count": null,
   "metadata": {},
   "outputs": [],
   "source": []
  }
 ],
 "metadata": {
  "kernelspec": {
   "display_name": "Python 3",
   "language": "python",
   "name": "python3"
  },
  "language_info": {
   "codemirror_mode": {
    "name": "ipython",
    "version": 3
   },
   "file_extension": ".py",
   "mimetype": "text/x-python",
   "name": "python",
   "nbconvert_exporter": "python",
   "pygments_lexer": "ipython3",
   "version": "3.6.4"
  }
 },
 "nbformat": 4,
 "nbformat_minor": 1
}
